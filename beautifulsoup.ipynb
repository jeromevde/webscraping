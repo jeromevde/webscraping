{
 "cells": [
  {
   "cell_type": "markdown",
   "metadata": {},
   "source": [
    "# BeatifulSoup "
   ]
  },
  {
   "cell_type": "markdown",
   "metadata": {},
   "source": [
    "**html.parser** - BeautifulSoup(markup, \"html.parser\")\n",
    "* Advantages: Batteries included, Decent speed, Lenient (as of Python 2.7.3 and 3.2.)\n",
    "* Disadvantages: Not very lenient (before Python 2.7.3 or 3.2.2)\n",
    "\n",
    "**lxml** - BeautifulSoup(markup, \"lxml\")\n",
    "* Advantages: Very fast, Lenient\n",
    "* Disadvantages: External C dependency\n",
    "\n",
    "**html5lib** - BeautifulSoup(markup, \"html5lib\")\n",
    "* Advantages: Extremely lenient, Parses pages the same way a web browser does, Creates valid HTML5\n",
    "* Disadvantages: Very slow, External Python dependency"
   ]
  },
  {
   "cell_type": "code",
   "execution_count": 95,
   "metadata": {},
   "outputs": [],
   "source": [
    "from bs4 import BeautifulSoup\n",
    "from urllib.request import urlopen\n",
    "html = urlopen(\"https://www.wikipedia.org\").read().decode('utf-8')\n",
    "#print(html)"
   ]
  },
  {
   "cell_type": "code",
   "execution_count": 98,
   "metadata": {},
   "outputs": [
    {
     "name": "stdout",
     "output_type": "stream",
     "text": [
      "<h1 class=\"central-textlogo-wrapper\">\n",
      "<span class=\"central-textlogo__image sprite svg-Wikipedia_wordmark\">\n",
      "Wikipedia\n",
      "</span>\n",
      "<strong class=\"jsl10n localized-slogan\" data-jsl10n=\"slogan\">The Free Encyclopedia</strong>\n",
      "</h1> \n",
      "\n",
      " <p class=\"jsl10n\" data-jsl10n=\"app-links.description\">\n",
      "Save your favorite articles to read offline, sync your reading lists across devices and customize your reading experience with the official Wikipedia app.\n",
      "</p>\n"
     ]
    }
   ],
   "source": [
    "soup = BeautifulSoup(html, features='html.parser')\n",
    "print(soup.h1, \"\\n\\n\", soup.p)"
   ]
  },
  {
   "cell_type": "markdown",
   "metadata": {},
   "source": [
    "## Scrape github trending using ```find_all```"
   ]
  },
  {
   "cell_type": "markdown",
   "metadata": {},
   "source": [
    "\n",
    "```python \n",
    "def find_all(self, name=None, attrs={}, recursive=True, text=None,\n",
    "         limit=None, **kwargs):\n",
    "\"\"\"Look in the children of this PageElement and find all\n",
    "PageElements that match the given criteria.\n",
    "\n",
    "All find_* methods take a common set of arguments. See the online\n",
    "documentation for detailed explanations.\n",
    "\n",
    ":param name: A filter on tag name.\n",
    ":param attrs: A dictionary of filters on attribute values.\n",
    ":param recursive: If this is True, find_all() will perform a\n",
    "    recursive search of this PageElement's children. Otherwise,\n",
    "    only the direct children will be considered.\n",
    ":param limit: Stop looking after finding this many results.\n",
    ":kwargs: A dictionary of filters on attribute values.\n",
    ":return: A ResultSet of PageElements.\n",
    ":rtype: bs4.element.ResultSet \n",
    "```"
   ]
  },
  {
   "cell_type": "code",
   "execution_count": 57,
   "metadata": {},
   "outputs": [],
   "source": [
    "soup = BeautifulSoup(\"\"\"<a data-hydro-click=\"{&quot;event_type&quot;:&quot;explore.click&quot;,&quot;payload&quot;:{&quot;click_context&quot;:&quot;TRENDING_REPOSITORIES_PAGE&quot;,&quot;click_target&quot;:&quot;REPOSITORY&quot;,&quot;click_visual_representation&quot;:&quot;REPOSITORY_NAME_HEADING&quot;,&quot;actor_id&quot;:8834824,&quot;record_id&quot;:364705340,&quot;originating_url&quot;:&quot;https://github.com/trending&quot;,&quot;user_id&quot;:8834824}}\" data-hydro-click-hmac=\"026cba0368a35bfcf8f67322e96885e0ab123e75fb5e407bd02e1e0c6ea9b308\" href=\"/google/fully-homomorphic-encryption\" data-view-component=\"true\">       <span data-view-component=\"true\" class=\"text-normal\">google /</span> fully-homomorphic-encryption</a>\"\"\")"
   ]
  },
  {
   "cell_type": "code",
   "execution_count": 108,
   "metadata": {},
   "outputs": [],
   "source": [
    "def match_class(target):   \n",
    "    \"\"\" \n",
    "    beatifulsoup treats classes as a list rather than a string\n",
    "    which means class='Link--muted d-inline-block mr-3' will \n",
    "    match with class='d-inline-block'\n",
    "    \"\"\"\n",
    "    def do_match(tag):                                                          \n",
    "        classes = \" \".join(tag.get('class', []))                                         \n",
    "        return classes == target                               \n",
    "    return do_match  "
   ]
  },
  {
   "cell_type": "code",
   "execution_count": 89,
   "metadata": {
    "scrolled": false
   },
   "outputs": [
    {
     "name": "stdout",
     "output_type": "stream",
     "text": [
      "repo: fully-homomorphic-encryption\n",
      "developer 0: dibakch\n",
      "repo: jd\n",
      "developer 0: lsh26\n",
      "developer 1: star261\n",
      "repo: Watchy\n",
      "developer 0: sqfmi\n",
      "developer 1: dandelany\n",
      "developer 2: LeonMatthes\n",
      "developer 3: kicker22004\n",
      "developer 4: per1234\n",
      "repo: jina\n",
      "developer 0: hanxiao\n",
      "developer 1: jina-bot\n",
      "developer 2: JoanFM\n",
      "developer 3: nan-wang\n",
      "developer 4: alexcg1\n",
      "repo: tinygrad\n",
      "developer 0: geohot\n",
      "developer 1: marcelbischoff\n",
      "developer 2: ryanneph\n",
      "developer 3: adriangb\n",
      "developer 4: Liamdoult\n",
      "repo: turbo-rails\n",
      "developer 0: dhh\n",
      "developer 1: javan\n",
      "developer 2: kaspth\n",
      "developer 3: alexandreruban\n",
      "developer 4: georgeclaghorn\n",
      "repo: NvChad\n",
      "developer 0: siduck76\n",
      "developer 1: Vanderscycle\n",
      "developer 2: marvelman3284\n",
      "developer 3: mTvare6\n",
      "developer 4: jaydamani\n",
      "repo: jwasham\n",
      "developer 0: jwasham\n",
      "developer 1: avizmarlon\n",
      "developer 2: YoSaucedo\n",
      "developer 3: aleen42\n",
      "developer 4: Ilyushin\n",
      "repo: chriskiehl\n",
      "developer 0: chriskiehl\n",
      "developer 1: Shura1oplot\n",
      "developer 2: eladeyal-intel\n",
      "developer 3: Roshgar\n",
      "developer 4: conradhilley\n",
      "repo: monyhar-lite\n",
      "developer 0: dontpanic92\n",
      "repo: chromium\n",
      "repo: the-book-of-secret-knowledge\n",
      "developer 0: trimstray\n",
      "developer 1: lbonanomi\n",
      "developer 2: loweryaustin\n",
      "developer 3: the4rchangel\n",
      "developer 4: KingOfDireWolves\n",
      "repo: 30-Days-Of-JavaScript\n",
      "developer 0: Asabeneh\n",
      "developer 1: npnjuguna\n",
      "developer 2: Meharban-Singh\n",
      "developer 3: Ibochkarev\n",
      "developer 4: pkiczko\n",
      "repo: javascript-questions\n",
      "developer 0: lydiahallie\n",
      "developer 1: Tarabass\n",
      "developer 2: jakeherp\n",
      "developer 3: tcoppin\n",
      "developer 4: oshliaer\n",
      "repo: Smart-Inspector\n",
      "developer 0: neon-age\n",
      "repo: formily\n",
      "developer 0: janryWang\n",
      "developer 1: quirkyshop\n",
      "developer 2: cnt1992\n",
      "developer 3: monkindey\n",
      "developer 4: liuweiGL\n",
      "repo: jd_scripts\n",
      "developer 0: JDHelloWorld\n",
      "repo: pytorch-tutorial\n",
      "developer 0: yunjey\n",
      "developer 1: JosephKJ\n",
      "developer 2: arisliang\n",
      "developer 3: DingKe\n",
      "developer 4: Kongsea\n",
      "repo: next.js\n",
      "developer 0: timneutkens\n",
      "developer 1: Timer\n",
      "developer 2: ijjk\n",
      "developer 3: arunoda\n",
      "developer 4: nkzawa\n",
      "repo: books\n",
      "developer 0: programthink\n",
      "repo: willmcgugan\n",
      "developer 0: willmcgugan\n",
      "developer 1: nathanrpage97\n",
      "developer 2: appsdependabot\n",
      "developer 3: hedythedev\n",
      "developer 4: amartya-dev\n",
      "repo: jdh-8\n",
      "developer 0: jdah\n",
      "repo: bee\n",
      "developer 0: janos\n",
      "developer 1: acud\n",
      "developer 2: ralph-pichler\n",
      "developer 3: pradovic\n",
      "developer 4: vandot\n",
      "repo: SegFormer\n",
      "developer 0: xieenze\n",
      "developer 1: Chrisding\n",
      "developer 2: cyrilzakka\n",
      "repo: rustdesk\n",
      "developer 0: rustdesk\n",
      "developer 1: arthurhenrique\n",
      "developer 2: Candunc\n",
      "developer 3: herbygillot\n",
      "developer 4: gitatmax\n"
     ]
    }
   ],
   "source": [
    "page = requests.get('https://github.com/trending')\n",
    "soup = BeautifulSoup(page.text, 'html.parser')\n",
    "repos = soup.find_all(name = 'article', attrs={\"class\": \"Box-row\"})\n",
    "for repo in repos:\n",
    "    name = repo.find(name=\"a\", attrs={\"data-view-component\":\"true\"})\n",
    "    print(\"repo: \" + name[\"href\"].split(\"/\")[-1])\n",
    "    devs = repo.find_all(match_class(\"d-inline-block\"))\n",
    "    for i,dev in enumerate(devs):\n",
    "        print(f\"developer {i}: \" + dev[\"href\"].replace(\"/\",\"\"))"
   ]
  },
  {
   "cell_type": "code",
   "execution_count": null,
   "metadata": {},
   "outputs": [],
   "source": []
  }
 ],
 "metadata": {
  "kernelspec": {
   "display_name": "Python [conda env:scraper]",
   "language": "python",
   "name": "conda-env-scraper-py"
  },
  "language_info": {
   "codemirror_mode": {
    "name": "ipython",
    "version": 3
   },
   "file_extension": ".py",
   "mimetype": "text/x-python",
   "name": "python",
   "nbconvert_exporter": "python",
   "pygments_lexer": "ipython3",
   "version": "3.8.10"
  }
 },
 "nbformat": 4,
 "nbformat_minor": 1
}
